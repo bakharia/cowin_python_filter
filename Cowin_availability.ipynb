{
  "nbformat": 4,
  "nbformat_minor": 0,
  "metadata": {
    "colab": {
      "name": "Cowin availability.ipynb",
      "provenance": []
    },
    "kernelspec": {
      "name": "python3",
      "display_name": "Python 3"
    },
    "language_info": {
      "name": "python"
    }
  },
  "cells": [
    {
      "cell_type": "markdown",
      "metadata": {
        "id": "cCeggwtYs2Fi"
      },
      "source": [
        "Imports -- Donot Touch, Donot edit if you don't know what you are doing!"
      ]
    },
    {
      "cell_type": "code",
      "metadata": {
        "id": "80-JMsnOimuO"
      },
      "source": [
        "import time\n",
        "import requests\n",
        "import numpy as np\n",
        "import pandas as pd\n",
        "from datetime import datetime, date, timedelta"
      ],
      "execution_count": 409,
      "outputs": []
    },
    {
      "cell_type": "markdown",
      "metadata": {
        "id": "s5cP-V7Is6Z6"
      },
      "source": [
        "Variables -- Please edit based on your convenience"
      ]
    },
    {
      "cell_type": "code",
      "metadata": {
        "id": "seB9fDpvwzdk",
        "cellView": "code"
      },
      "source": [
        "pincodes = [751015, 751030]   # Please provide 1 or more Pincodes\n",
        "availability = 'stock'  # 'all' or 'stock'\n",
        "fee_type = 'both'  # 'Paid' or 'Free' or \"both\"\n",
        "age_limit = None  # 18 or 45 or None\n",
        "start = None  # Time or None  | Format: '04:30PM' or None\n",
        "end = None  # Time or None  | Format: '04:30PM' or None\n",
        "lookup_start_date = date(2021, 5, 3)  # YYYY, m, dd\n",
        "lookup_end_date = date(2021, 5, 20)  # YYYY, m, dd"
      ],
      "execution_count": 410,
      "outputs": []
    },
    {
      "cell_type": "markdown",
      "metadata": {
        "id": "_tXw_kiIweXI"
      },
      "source": [
        "Functions begin -- Please don't touch and don't edit if you don't know what you are doing!"
      ]
    },
    {
      "cell_type": "code",
      "metadata": {
        "id": "-6MKO8r0agma"
      },
      "source": [
        "delta = (lookup_end_date - lookup_start_date).days + 1\n",
        "range_dates = [lookup_start_date + timedelta(days=day) for day in range(delta)]\n",
        "date_range = [x.strftime('%d-%m-%Y') for x in range_dates]"
      ],
      "execution_count": 411,
      "outputs": []
    },
    {
      "cell_type": "markdown",
      "metadata": {
        "id": "udIeCqhQxEkv"
      },
      "source": [
        "Time Conversion"
      ]
    },
    {
      "cell_type": "code",
      "metadata": {
        "id": "QCOrdPruHqi_"
      },
      "source": [
        "def convert_time(date_str):\n",
        "  time_value = datetime.strptime(date_str, '%I:%M%p').time()\n",
        "  return time_value\n",
        "\n",
        "if start:\n",
        "  start_time = datetime.strptime(start, '%I:%M%p').time()\n",
        "else:\n",
        "  start_time = start\n",
        "\n",
        "if end:\n",
        "  finish_time = datetime.strptime(end, '%I:%M%p').time()\n",
        "else:\n",
        "  finish_time = end"
      ],
      "execution_count": 412,
      "outputs": []
    },
    {
      "cell_type": "markdown",
      "metadata": {
        "id": "TX9c9C_Rwq7D"
      },
      "source": [
        "Function to get centres sorted by the most available ones first"
      ]
    },
    {
      "cell_type": "code",
      "metadata": {
        "id": "ivZCTjFDxgd_"
      },
      "source": [
        "def get_centers(read_json, fee_type: str, age_limit: int, start_time: datetime, finish_time: datetime, availability:str):\n",
        "  \"\"\"\n",
        "  @param read_json: Json variable\n",
        "  @availability: If vaccines are in stock\n",
        "  @fee_type: Free or paid\n",
        "  @age_limit: 18 or 45\n",
        "  @start_time: Time for vaccine to start\n",
        "  @finish_time: Time for vaccine to end\n",
        "  \"\"\"\n",
        "\n",
        "  centers = pd.DataFrame(read_json.get('centers'))\n",
        "\n",
        "  list_sessions = []\n",
        "  for j, row in centers.iterrows():\n",
        "    session = pd.DataFrame(row['sessions'][0])\n",
        "    session['center_id'] = centers.loc[j, 'center_id']\n",
        "    list_sessions.append(session)\n",
        "\n",
        "  sessions = pd.concat(list_sessions, ignore_index=True)\n",
        "  session_center = centers.merge(sessions, on='center_id')\n",
        "  session_center.drop(columns=['sessions', 'session_id'], inplace=True)\n",
        "\n",
        "  if availability == 'stock':\n",
        "    session_center = session_center[session_center['available_capacity'] > 0]\n",
        "  \n",
        "  if fee_type == 'Paid':\n",
        "    session_center = session_center[session_center['fee_type'] == 'Paid']\n",
        "  elif fee_type == 'Free':\n",
        "    session_center = session_center[session_center['fee_type'] == 'Free']\n",
        "  \n",
        "  if age_limit == 18:\n",
        "    session_center = session_center[session_center['min_age_limit'] == 18]\n",
        "  elif age_limit == 45:\n",
        "    session_center = session_center[session_center['min_age_limit'] == 45]\n",
        "\n",
        "  if not session_center.empty:\n",
        "    session_center[['start', 'finish']] = session_center['slots'].str.split('-', expand=True)\n",
        "    session_center['start'] = session_center['start'].apply(lambda x: convert_time(x))\n",
        "    session_center['finish'] = session_center['finish'].apply(lambda x: convert_time(x))\n",
        "\n",
        "    if start_time and finish_time:\n",
        "      session_center = session_center[(session_center['start'] >= start_time) & (session_center['start'] <= finish_time)]\n",
        "    elif start_time:\n",
        "      session_center = session_center[session_center['start'] >= start_time]\n",
        "    elif finish_time:\n",
        "      session_center = session_center[session_center['start'] <= finish_time]\n",
        "  \n",
        "  session_center.reset_index(drop=True, inplace=True)\n",
        "  return session_center"
      ],
      "execution_count": 413,
      "outputs": []
    },
    {
      "cell_type": "code",
      "metadata": {
        "colab": {
          "base_uri": "https://localhost:8080/",
          "height": 709
        },
        "id": "42zymerFyTnY",
        "outputId": "146db3ec-8184-4cff-b591-5344ed17afab"
      },
      "source": [
        "data_list = []\n",
        "\n",
        "for date in date_range:\n",
        "  for pincode in pincodes:\n",
        "    response = requests.get(f\"https://cdn-api.co-vin.in/api/v2/appointment/sessions/public/calendarByPin?pincode={pincode}&date={date}\")\n",
        "    read_json = response.json()\n",
        "    if 'Forbidden' in read_json.values():\n",
        "      print(f'Message is forbidden, fetch is being blocked for PIN: {pincode} and Date: {date} - {read_json}')\n",
        "    elif [] in read_json.values():\n",
        "      print(f'Fetch successful, no vaccination centres available for PIN: {pincode} and Date: {date}  - {read_json}')\n",
        "    else:\n",
        "      data = get_centers(read_json, fee_type, age_limit, start_time, finish_time, availability)\n",
        "      data_list.append(data)\n",
        "data_set = pd.concat(data_list)\n",
        "data_set.sort_values(['available_capacity', 'min_age_limit'], ascending=[False, True], inplace=True, ignore_index=True)\n",
        "data_set\n"
      ],
      "execution_count": 417,
      "outputs": [
        {
          "output_type": "stream",
          "text": [
            "Message is forbidden, fetch is being blocked for PIN: 751015 and Date: 03-05-2021 - {'message': 'Forbidden'}\n",
            "Message is forbidden, fetch is being blocked for PIN: 751015 and Date: 04-05-2021 - {'message': 'Forbidden'}\n",
            "Message is forbidden, fetch is being blocked for PIN: 751030 and Date: 04-05-2021 - {'message': 'Forbidden'}\n",
            "Message is forbidden, fetch is being blocked for PIN: 751015 and Date: 05-05-2021 - {'message': 'Forbidden'}\n",
            "Message is forbidden, fetch is being blocked for PIN: 751030 and Date: 05-05-2021 - {'message': 'Forbidden'}\n",
            "Message is forbidden, fetch is being blocked for PIN: 751015 and Date: 06-05-2021 - {'message': 'Forbidden'}\n",
            "Message is forbidden, fetch is being blocked for PIN: 751030 and Date: 06-05-2021 - {'message': 'Forbidden'}\n",
            "Message is forbidden, fetch is being blocked for PIN: 751030 and Date: 07-05-2021 - {'message': 'Forbidden'}\n",
            "Message is forbidden, fetch is being blocked for PIN: 751015 and Date: 08-05-2021 - {'message': 'Forbidden'}\n",
            "Message is forbidden, fetch is being blocked for PIN: 751015 and Date: 09-05-2021 - {'message': 'Forbidden'}\n",
            "Message is forbidden, fetch is being blocked for PIN: 751030 and Date: 09-05-2021 - {'message': 'Forbidden'}\n",
            "Message is forbidden, fetch is being blocked for PIN: 751015 and Date: 10-05-2021 - {'message': 'Forbidden'}\n",
            "Message is forbidden, fetch is being blocked for PIN: 751015 and Date: 11-05-2021 - {'message': 'Forbidden'}\n",
            "Message is forbidden, fetch is being blocked for PIN: 751030 and Date: 11-05-2021 - {'message': 'Forbidden'}\n",
            "Message is forbidden, fetch is being blocked for PIN: 751015 and Date: 12-05-2021 - {'message': 'Forbidden'}\n",
            "Message is forbidden, fetch is being blocked for PIN: 751030 and Date: 12-05-2021 - {'message': 'Forbidden'}\n",
            "Message is forbidden, fetch is being blocked for PIN: 751015 and Date: 13-05-2021 - {'message': 'Forbidden'}\n",
            "Message is forbidden, fetch is being blocked for PIN: 751030 and Date: 13-05-2021 - {'message': 'Forbidden'}\n",
            "Message is forbidden, fetch is being blocked for PIN: 751015 and Date: 14-05-2021 - {'message': 'Forbidden'}\n",
            "Message is forbidden, fetch is being blocked for PIN: 751030 and Date: 14-05-2021 - {'message': 'Forbidden'}\n",
            "Message is forbidden, fetch is being blocked for PIN: 751015 and Date: 15-05-2021 - {'message': 'Forbidden'}\n",
            "Message is forbidden, fetch is being blocked for PIN: 751030 and Date: 15-05-2021 - {'message': 'Forbidden'}\n",
            "Message is forbidden, fetch is being blocked for PIN: 751015 and Date: 16-05-2021 - {'message': 'Forbidden'}\n",
            "Message is forbidden, fetch is being blocked for PIN: 751030 and Date: 16-05-2021 - {'message': 'Forbidden'}\n",
            "Message is forbidden, fetch is being blocked for PIN: 751015 and Date: 17-05-2021 - {'message': 'Forbidden'}\n",
            "Message is forbidden, fetch is being blocked for PIN: 751015 and Date: 18-05-2021 - {'message': 'Forbidden'}\n",
            "Message is forbidden, fetch is being blocked for PIN: 751015 and Date: 19-05-2021 - {'message': 'Forbidden'}\n",
            "Message is forbidden, fetch is being blocked for PIN: 751030 and Date: 19-05-2021 - {'message': 'Forbidden'}\n",
            "Message is forbidden, fetch is being blocked for PIN: 751015 and Date: 20-05-2021 - {'message': 'Forbidden'}\n",
            "Message is forbidden, fetch is being blocked for PIN: 751030 and Date: 20-05-2021 - {'message': 'Forbidden'}\n"
          ],
          "name": "stdout"
        },
        {
          "output_type": "execute_result",
          "data": {
            "text/html": [
              "<div>\n",
              "<style scoped>\n",
              "    .dataframe tbody tr th:only-of-type {\n",
              "        vertical-align: middle;\n",
              "    }\n",
              "\n",
              "    .dataframe tbody tr th {\n",
              "        vertical-align: top;\n",
              "    }\n",
              "\n",
              "    .dataframe thead th {\n",
              "        text-align: right;\n",
              "    }\n",
              "</style>\n",
              "<table border=\"1\" class=\"dataframe\">\n",
              "  <thead>\n",
              "    <tr style=\"text-align: right;\">\n",
              "      <th></th>\n",
              "      <th>center_id</th>\n",
              "      <th>name</th>\n",
              "      <th>state_name</th>\n",
              "      <th>district_name</th>\n",
              "      <th>block_name</th>\n",
              "      <th>pincode</th>\n",
              "      <th>lat</th>\n",
              "      <th>long</th>\n",
              "      <th>from</th>\n",
              "      <th>to</th>\n",
              "      <th>fee_type</th>\n",
              "      <th>date</th>\n",
              "      <th>available_capacity</th>\n",
              "      <th>min_age_limit</th>\n",
              "      <th>vaccine</th>\n",
              "      <th>slots</th>\n",
              "      <th>start</th>\n",
              "      <th>finish</th>\n",
              "    </tr>\n",
              "  </thead>\n",
              "  <tbody>\n",
              "    <tr>\n",
              "      <th>0</th>\n",
              "      <td>564103</td>\n",
              "      <td>UPHC IRC VILLAGE</td>\n",
              "      <td>Odisha</td>\n",
              "      <td>Khurda</td>\n",
              "      <td>Bhubaneswar MC</td>\n",
              "      <td>751015</td>\n",
              "      <td>0</td>\n",
              "      <td>0</td>\n",
              "      <td>15:00:00</td>\n",
              "      <td>18:00:00</td>\n",
              "      <td>Free</td>\n",
              "      <td>07-05-2021</td>\n",
              "      <td>30</td>\n",
              "      <td>45</td>\n",
              "      <td></td>\n",
              "      <td>03:00PM-05:00PM</td>\n",
              "      <td>15:00:00</td>\n",
              "      <td>17:00:00</td>\n",
              "    </tr>\n",
              "    <tr>\n",
              "      <th>1</th>\n",
              "      <td>564103</td>\n",
              "      <td>UPHC IRC VILLAGE</td>\n",
              "      <td>Odisha</td>\n",
              "      <td>Khurda</td>\n",
              "      <td>Bhubaneswar MC</td>\n",
              "      <td>751015</td>\n",
              "      <td>0</td>\n",
              "      <td>0</td>\n",
              "      <td>15:00:00</td>\n",
              "      <td>18:00:00</td>\n",
              "      <td>Free</td>\n",
              "      <td>07-05-2021</td>\n",
              "      <td>30</td>\n",
              "      <td>45</td>\n",
              "      <td></td>\n",
              "      <td>05:00PM-06:00PM</td>\n",
              "      <td>17:00:00</td>\n",
              "      <td>18:00:00</td>\n",
              "    </tr>\n",
              "  </tbody>\n",
              "</table>\n",
              "</div>"
            ],
            "text/plain": [
              "   center_id              name state_name  ...            slots     start    finish\n",
              "0     564103  UPHC IRC VILLAGE     Odisha  ...  03:00PM-05:00PM  15:00:00  17:00:00\n",
              "1     564103  UPHC IRC VILLAGE     Odisha  ...  05:00PM-06:00PM  17:00:00  18:00:00\n",
              "\n",
              "[2 rows x 18 columns]"
            ]
          },
          "metadata": {
            "tags": []
          },
          "execution_count": 417
        }
      ]
    }
  ]
}